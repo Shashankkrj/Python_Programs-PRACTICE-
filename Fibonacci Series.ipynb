{
 "cells": [
  {
   "cell_type": "markdown",
   "id": "ee6124f1",
   "metadata": {},
   "source": [
    "## Program to print fibonacci series"
   ]
  },
  {
   "cell_type": "code",
   "execution_count": 1,
   "id": "d07652f0",
   "metadata": {},
   "outputs": [
    {
     "name": "stdout",
     "output_type": "stream",
     "text": [
      "Enter the size of series: 15\n",
      "0\n",
      "1\n",
      "1\n",
      "2\n",
      "3\n",
      "5\n",
      "8\n",
      "13\n",
      "21\n",
      "34\n",
      "55\n",
      "89\n",
      "144\n",
      "233\n",
      "377\n"
     ]
    }
   ],
   "source": [
    "#take size of series as input from user\n",
    "size = int(input(\"Enter the size of series: \"))\n",
    "#declare first and second number of fibonacci series\n",
    "first_number = 0\n",
    "second_number = 1\n",
    "#loop for printing all the numbers of series\n",
    "for i in range(size):\n",
    "    print(first_number)\n",
    "    #declare next_number as sum of previous two numbers\n",
    "    next_number = first_number + second_number\n",
    "    first_number = second_number\n",
    "    second_number = next_number"
   ]
  }
 ],
 "metadata": {
  "kernelspec": {
   "display_name": "Python 3 (ipykernel)",
   "language": "python",
   "name": "python3"
  },
  "language_info": {
   "codemirror_mode": {
    "name": "ipython",
    "version": 3
   },
   "file_extension": ".py",
   "mimetype": "text/x-python",
   "name": "python",
   "nbconvert_exporter": "python",
   "pygments_lexer": "ipython3",
   "version": "3.8.13"
  }
 },
 "nbformat": 4,
 "nbformat_minor": 5
}

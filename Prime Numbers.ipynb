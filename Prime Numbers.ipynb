{
 "cells": [
  {
   "cell_type": "markdown",
   "id": "13c49fd3",
   "metadata": {},
   "source": [
    "## Program to find whether a given number is prime or not"
   ]
  },
  {
   "cell_type": "code",
   "execution_count": 3,
   "id": "bcdc9561",
   "metadata": {},
   "outputs": [
    {
     "name": "stdout",
     "output_type": "stream",
     "text": [
      "Enter a number3\n",
      "3 is a prime number\n"
     ]
    }
   ],
   "source": [
    "number = input(\"Enter a number\")\n",
    "number = int(number)\n",
    "if number > 1:\n",
    "    count = 0\n",
    "    for i in range(number):\n",
    "        if number % (i+1) == 0:\n",
    "            count = count + 1\n",
    "        else:\n",
    "            pass\n",
    "        \n",
    "    if count > 2:\n",
    "        print(\"{} is a composite number\".format(number))\n",
    "    else:\n",
    "        print(\"{} is a prime number\".format(number))\n",
    "\n",
    "else:\n",
    "    print(\"Number is invalid!\\nPlease enter the right number\")"
   ]
  },
  {
   "cell_type": "markdown",
   "id": "81e34b5d",
   "metadata": {},
   "source": [
    "## Program to find prime numbers and composite numbers between two given numbers (including starting number)"
   ]
  },
  {
   "cell_type": "code",
   "execution_count": 1,
   "id": "94bb0207",
   "metadata": {},
   "outputs": [
    {
     "name": "stdout",
     "output_type": "stream",
     "text": [
      "Enter the starting number3\n",
      "Enter the last number100\n",
      "Composite numbers between 3 and 100 are [4, 6, 8, 9, 10, 12, 14, 15, 16, 18, 20, 21, 22, 24, 25, 26, 27, 28, 30, 32, 33, 34, 35, 36, 38, 39, 40, 42, 44, 45, 46, 48, 49, 50, 51, 52, 54, 55, 56, 57, 58, 60, 62, 63, 64, 65, 66, 68, 69, 70, 72, 74, 75, 76, 77, 78, 80, 81, 82, 84, 85, 86, 87, 88, 90, 91, 92, 93, 94, 95, 96, 98, 99]\n",
      "Prime numbers between 3 and 100 are [3, 5, 7, 11, 13, 17, 19, 23, 29, 31, 37, 41, 43, 47, 53, 59, 61, 67, 71, 73, 79, 83, 89, 97]\n"
     ]
    }
   ],
   "source": [
    "start_number = int(input(\"Enter the starting number\"))\n",
    "last_number = int(input(\"Enter the last number\"))\n",
    "prime_numbers = []\n",
    "composite_numbers = []\n",
    "for i in range(start_number,last_number):\n",
    "    count = 0\n",
    "    for n in range(i):\n",
    "        if i % (n+1) == 0:\n",
    "            count = count + 1\n",
    "        else:\n",
    "            pass\n",
    "    \n",
    "    if count > 2:\n",
    "        composite_numbers.append(i)\n",
    "    else:\n",
    "        prime_numbers.append(i)\n",
    "\n",
    "print(\"Composite numbers between {} and {} are {}\".format(start_number,last_number,composite_numbers))\n",
    "print(\"Prime numbers between {} and {} are {}\".format(start_number,last_number,prime_numbers))"
   ]
  }
 ],
 "metadata": {
  "kernelspec": {
   "display_name": "Python 3 (ipykernel)",
   "language": "python",
   "name": "python3"
  },
  "language_info": {
   "codemirror_mode": {
    "name": "ipython",
    "version": 3
   },
   "file_extension": ".py",
   "mimetype": "text/x-python",
   "name": "python",
   "nbconvert_exporter": "python",
   "pygments_lexer": "ipython3",
   "version": "3.8.13"
  }
 },
 "nbformat": 4,
 "nbformat_minor": 5
}
